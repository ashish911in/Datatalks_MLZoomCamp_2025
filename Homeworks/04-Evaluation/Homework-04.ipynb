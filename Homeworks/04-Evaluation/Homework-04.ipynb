{
 "cells": [
  {
   "cell_type": "code",
   "execution_count": 1,
   "id": "ddc2e3e4-3570-4f10-babb-6fa47b4b6e72",
   "metadata": {},
   "outputs": [
    {
     "name": "stdout",
     "output_type": "stream",
     "text": [
      "--2025-10-20 08:37:22--  https://raw.githubusercontent.com/DataTalksClub/machine-learning-zoomcamp/refs/heads/master/cohorts/2025/04-evaluation/homework.md\n",
      "Resolving raw.githubusercontent.com (raw.githubusercontent.com)... 185.199.109.133, 185.199.110.133, 185.199.111.133, ...\n",
      "Connecting to raw.githubusercontent.com (raw.githubusercontent.com)|185.199.109.133|:443... connected.\n",
      "HTTP request sent, awaiting response... 200 OK\n",
      "Length: 4041 (3.9K) [text/plain]\n",
      "Saving to: ‘homework.md’\n",
      "\n",
      "homework.md         100%[===================>]   3.95K  --.-KB/s    in 0s      \n",
      "\n",
      "2025-10-20 08:37:23 (46.1 MB/s) - ‘homework.md’ saved [4041/4041]\n",
      "\n"
     ]
    }
   ],
   "source": [
    "# !wget https://raw.githubusercontent.com/DataTalksClub/machine-learning-zoomcamp/refs/heads/master/cohorts/2025/04-evaluation/homework.md"
   ]
  },
  {
   "cell_type": "markdown",
   "id": "59d31f7e-948e-46a6-9aba-b931149a25de",
   "metadata": {},
   "source": [
    "## Homework\n",
    "\n",
    "> Note: sometimes your answer doesn't match one of \n",
    "> the options exactly. That's fine. \n",
    "> Select the option that's closest to your solution.\n",
    "\n",
    "\n",
    "In this homework, we will use the lead scoring dataset Bank Marketing dataset. Download it from [here] ✔️ (https://raw.githubusercontent.com/alexeygrigorev/datasets/master/course_lead_scoring.csv)."
   ]
  },
  {
   "cell_type": "code",
   "execution_count": 1,
   "id": "31cd0232-ae67-4192-a726-21c367a74310",
   "metadata": {},
   "outputs": [
    {
     "name": "stdout",
     "output_type": "stream",
     "text": [
      "--2025-10-20 20:10:56--  https://raw.githubusercontent.com/alexeygrigorev/datasets/master/course_lead_scoring.csv\n",
      "Resolving raw.githubusercontent.com (raw.githubusercontent.com)... 185.199.110.133, 185.199.111.133, 185.199.108.133, ...\n",
      "Connecting to raw.githubusercontent.com (raw.githubusercontent.com)|185.199.110.133|:443... connected.\n",
      "HTTP request sent, awaiting response... 200 OK\n",
      "Length: 80876 (79K) [text/plain]\n",
      "Saving to: ‘course_lead_scoring.csv’\n",
      "\n",
      "course_lead_scoring 100%[===================>]  78.98K  --.-KB/s    in 0.002s  \n",
      "\n",
      "2025-10-20 20:10:57 (40.7 MB/s) - ‘course_lead_scoring.csv’ saved [80876/80876]\n",
      "\n"
     ]
    }
   ],
   "source": [
    "!wget https://raw.githubusercontent.com/alexeygrigorev/datasets/master/course_lead_scoring.csv"
   ]
  },
  {
   "cell_type": "markdown",
   "id": "83dbd18e-6e48-44a8-bf3a-96e9b7cdc953",
   "metadata": {},
   "source": [
    "In this dataset our desired target for classification task will be `converted` variable - has the client signed up to the platform or not. \n",
    "\n",
    "### Data preparation\n",
    "\n",
    "* Check if the missing values are presented in the features. ✔️\n",
    "* If there are missing values:\n",
    "    * For caterogiral features, replace them with 'NA' ✔️\n",
    "    * For numerical features, replace with with 0.0 ✔️"
   ]
  },
  {
   "cell_type": "code",
   "execution_count": 1,
   "id": "e42cbc29-26bf-4507-b36c-7d0935da3407",
   "metadata": {},
   "outputs": [
    {
     "name": "stdout",
     "output_type": "stream",
     "text": [
      "lead_source                 128\n",
      "industry                    134\n",
      "number_of_courses_viewed      0\n",
      "annual_income               181\n",
      "employment_status           100\n",
      "location                     63\n",
      "interaction_count             0\n",
      "lead_score                    0\n",
      "converted                     0\n",
      "dtype: int64\n"
     ]
    },
    {
     "data": {
      "text/plain": [
       "lead_source                  object\n",
       "industry                     object\n",
       "number_of_courses_viewed      int64\n",
       "annual_income               float64\n",
       "employment_status            object\n",
       "location                     object\n",
       "interaction_count             int64\n",
       "lead_score                  float64\n",
       "converted                     int64\n",
       "dtype: object"
      ]
     },
     "metadata": {},
     "output_type": "display_data"
    },
    {
     "name": "stdout",
     "output_type": "stream",
     "text": [
      "lead_source                 0\n",
      "industry                    0\n",
      "number_of_courses_viewed    0\n",
      "annual_income               0\n",
      "employment_status           0\n",
      "location                    0\n",
      "interaction_count           0\n",
      "lead_score                  0\n",
      "converted                   0\n",
      "dtype: int64\n"
     ]
    },
    {
     "data": {
      "text/plain": [
       "(['number_of_courses_viewed',\n",
       "  'annual_income',\n",
       "  'interaction_count',\n",
       "  'lead_score'],\n",
       " ['lead_source', 'industry', 'employment_status', 'location'])"
      ]
     },
     "execution_count": 1,
     "metadata": {},
     "output_type": "execute_result"
    }
   ],
   "source": [
    "import pandas as pd, numpy as np\n",
    "def getInitDF(src):\n",
    "    '''\n",
    "    Input: src ('the source from where the data is read into a dataframe')\n",
    "    Output: (df, num_columns, cat_columns)\n",
    "    Description:\n",
    "        This function is for returning a tuple containing a dataframe from 'src' parameter, list of numerical columns \n",
    "        and list of categorical columns from that dataframe\n",
    "    '''\n",
    "    df=pd.read_csv(src)\n",
    "    print(df.isnull().sum())\n",
    "    display(df.dtypes)\n",
    "    num_columns = df.select_dtypes(exclude=['object']).columns.tolist()\n",
    "    num_columns.remove('converted')\n",
    "    cat_columns = df.select_dtypes(include=['object']).columns.tolist()\n",
    "    df[cat_columns] = df[cat_columns].fillna('NA')\n",
    "    df[num_columns] = df[num_columns].fillna(0)\n",
    "    print(df.isnull().sum())\n",
    "    return (df, num_columns, cat_columns)\n",
    "    \n",
    "(df, num_columns, cat_columns) = getInitDF('course_lead_scoring.csv')\n",
    "(num_columns, cat_columns)"
   ]
  },
  {
   "cell_type": "markdown",
   "id": "9af56ab6-7d6f-4b37-be39-a2139c087904",
   "metadata": {},
   "source": [
    "Split the data into 3 parts: train/validation/test with 60%/20%/20% distribution. Use `train_test_split` function for that with `random_state=1` ✔️"
   ]
  },
  {
   "cell_type": "code",
   "execution_count": 2,
   "id": "cea71391-66b1-42eb-bda2-f9c31c686e71",
   "metadata": {},
   "outputs": [
    {
     "data": {
      "text/plain": [
       "(1462, 1169, 1169, 1462)"
      ]
     },
     "execution_count": 2,
     "metadata": {},
     "output_type": "execute_result"
    }
   ],
   "source": [
    "from sklearn.model_selection import train_test_split\n",
    "df_original = df.copy()\n",
    "def splitDataset(df):\n",
    "    df_full_train, df_test = train_test_split(df, test_size=0.2, random_state=1)\n",
    "    df_train, df_val = train_test_split(df_full_train, test_size=0.25, random_state=1)\n",
    "\n",
    "    df_train = df_train.reset_index(drop=True)\n",
    "    df_val = df_val.reset_index(drop=True)\n",
    "    df_test = df_test.reset_index(drop=True)\n",
    "    return (df_full_train, df_train, df_val, df_test)\n",
    "\n",
    "(df_full_train, df_train, df_val, df_test) = splitDataset(df)\n",
    "(len(df), len(df_full_train), len(df_train)+len(df_val), len(df_full_train)+len(df_test))"
   ]
  },
  {
   "cell_type": "code",
   "execution_count": 3,
   "id": "e250e1c0-cfbb-4f84-9c1f-a4bb6de8c135",
   "metadata": {},
   "outputs": [
    {
     "data": {
      "text/plain": [
       "\"\\ndel df_train['converted']\\ndel df_val['converted']\\ndel df_test['converted']\\n\""
      ]
     },
     "execution_count": 3,
     "metadata": {},
     "output_type": "execute_result"
    }
   ],
   "source": [
    "y_train = df_train.converted.values\n",
    "y_val = df_val.converted.values\n",
    "y_test = df_test.converted.values\n",
    "\n",
    "'''\n",
    "del df_train['converted']\n",
    "del df_val['converted']\n",
    "del df_test['converted']\n",
    "'''"
   ]
  },
  {
   "cell_type": "markdown",
   "id": "16e909b1-f215-490f-bd91-c9db33e70fda",
   "metadata": {},
   "source": [
    "### Question 1: ROC AUC feature importance\n",
    "\n",
    "ROC AUC could also be used to evaluate feature importance of numerical variables. \n",
    "\n",
    "Let's do that\n",
    "\n",
    "* For each numerical variable, use it as score (aka prediction) and compute the AUC with the `y` variable as ground truth.\n",
    "* Use the training dataset for that\n",
    "\n",
    "\n",
    "\n"
   ]
  },
  {
   "cell_type": "code",
   "execution_count": 5,
   "id": "507d3250-3590-4df7-bcd0-3416dfe5daf9",
   "metadata": {},
   "outputs": [
    {
     "name": "stdout",
     "output_type": "stream",
     "text": [
      "for \"number_of_courses_viewed\", we have 0.7635680590007088\n",
      "for \"annual_income\", we have 0.5519578313253012\n",
      "for \"interaction_count\", we have 0.738270176293409\n",
      "for \"lead_score\", we have 0.6144993577250176\n"
     ]
    }
   ],
   "source": [
    "from sklearn.metrics import auc, roc_auc_score\n",
    "from sklearn.feature_extraction import DictVectorizer\n",
    "from sklearn.linear_model import LogisticRegression\n",
    "# roc_auc_score(y_val, y_pred)\n",
    "# y_train, y_val, y_test = [],[],[]\n",
    "# print(roc_auc_score(y_train, df_train[num_columns[:1]].values))\n",
    "\n",
    "for target in num_columns:\n",
    "    print(f'for \"{target}\", we have {roc_auc_score(y_train, df_train[target].values)}')\n",
    "    '''\n",
    "    new_num_columns = num_columns\n",
    "    new_num_columns.remove(target)\n",
    "    df = df_original.copy()\n",
    "    (df_full_train, df_train, df_val, df_test) = splitDataset(df)\n",
    "    \n",
    "    y_train = df_train[target].values\n",
    "    y_val = df_val[target].values\n",
    "    y_test = df_test[target].values\n",
    "\n",
    "    del df_train[target]\n",
    "    del df_val[target]\n",
    "    del df_test[target]\n",
    "\n",
    "    dv = DictVectorizer(sparse=False)\n",
    "    \n",
    "    train_dict = df_train[cat_columns + new_num_columns].to_dict(orient='records')\n",
    "    X_train = dv.fit_transform(train_dict)\n",
    "\n",
    "    model = LogisticRegression()\n",
    "    model.fit(X_train, y_train)\n",
    "\n",
    "    val_dict = df_val[cat_columns + new_num_columns].to_dict(orient='records')\n",
    "    X_val = dv.transform(val_dict)\n",
    "\n",
    "    y_pred = model.predict_proba(X_val)[:, 1]\n",
    "    target_decision = (y_pred >= 0.5)\n",
    "    print((y_val == target_decision).mean())\n",
    "    #print(roc_auc_score(y_val, y_pred))\n",
    "'''"
   ]
  },
  {
   "cell_type": "markdown",
   "id": "859d69c1-a063-4fe5-960c-0f3af51f743f",
   "metadata": {},
   "source": [
    "If your AUC is < 0.5, invert this variable by putting \"-\" in front\n",
    "\n",
    "(e.g. `-df_train['balance']`)\n",
    "\n",
    "AUC can go below 0.5 if the variable is negatively correlated with the target variable. You can change the direction of the correlation by negating this variable - then negative correlation becomes positive.\n",
    "\n",
    "Which numerical variable (among the following 4) has the highest AUC?\n",
    "\n",
    "- `lead_score`\n",
    "- `number_of_courses_viewed`\n",
    "- `interaction_count` <---\n",
    "- `annual_income`"
   ]
  },
  {
   "cell_type": "markdown",
   "id": "f0171b01-0c7c-43cb-a011-49d083857528",
   "metadata": {},
   "source": [
    "### Question 2: Training the model\n",
    "\n",
    "Apply one-hot-encoding using `DictVectorizer` and train the logistic regression with these parameters:\n",
    "\n",
    "```python\n",
    "LogisticRegression(solver='liblinear', C=1.0, max_iter=1000) ✔️\n",
    "```\n",
    "\n",
    "What's the AUC of this model on the validation dataset? (round to 3 digits)\n",
    "\n",
    "- 0.32\n",
    "- 0.52\n",
    "- 0.72 <--- (for now)\n",
    "- 0.92"
   ]
  },
  {
   "cell_type": "code",
   "execution_count": 6,
   "id": "001a242f-afb8-4232-b478-74ebd4b1e495",
   "metadata": {},
   "outputs": [
    {
     "data": {
      "text/plain": [
       "np.float64(0.6996587030716723)"
      ]
     },
     "execution_count": 6,
     "metadata": {},
     "output_type": "execute_result"
    }
   ],
   "source": [
    "dv = DictVectorizer(sparse=False)\n",
    "del df_train['converted']\n",
    "del df_val['converted']\n",
    "del df_test['converted']\n",
    "\n",
    "train_dict = df_train[cat_columns + num_columns].to_dict(orient='records')\n",
    "X_train = dv.fit_transform(train_dict)\n",
    "\n",
    "model = LogisticRegression(solver='liblinear', C=1.0, max_iter=1000)\n",
    "model.fit(X_train, y_train)\n",
    "\n",
    "val_dict = df_val[cat_columns + num_columns].to_dict(orient='records')\n",
    "X_val = dv.transform(val_dict)\n",
    "\n",
    "y_pred = model.predict_proba(X_val)[:, 1]\n",
    "target_decision = (y_pred >= 0.5)\n",
    "(y_val == target_decision).mean()"
   ]
  },
  {
   "cell_type": "code",
   "execution_count": 7,
   "id": "dae7f751-fe88-42d3-9595-f5b3bbc7f39c",
   "metadata": {},
   "outputs": [
    {
     "data": {
      "text/plain": [
       "0.817"
      ]
     },
     "execution_count": 7,
     "metadata": {},
     "output_type": "execute_result"
    }
   ],
   "source": [
    "round(roc_auc_score(y_val, y_pred),3)"
   ]
  },
  {
   "cell_type": "markdown",
   "id": "d046d225-dcbe-4430-b0ae-19753cf8abe4",
   "metadata": {},
   "source": [
    "### Question 3: Precision and Recall\n",
    "\n",
    "Now let's compute precision and recall for our model.\n",
    "\n",
    "* Evaluate the model on all thresholds from 0.0 to 1.0 with step 0.01 ✔️\n",
    "* For each threshold, compute precision and recall ✔️\n",
    "* Plot them ✔️\n",
    "\n",
    "At which threshold precision and recall curves intersect?\n",
    "\n",
    "* 0.145\n",
    "* 0.345\n",
    "* 0.545\n",
    "* 0.745 <--- (for now)"
   ]
  },
  {
   "cell_type": "code",
   "execution_count": 8,
   "id": "bf3efc2b-3717-46c0-af08-899dbaa6db78",
   "metadata": {},
   "outputs": [
    {
     "name": "stderr",
     "output_type": "stream",
     "text": [
      "/usr/local/python/3.12.1/lib/python3.12/site-packages/sklearn/metrics/_classification.py:1731: UndefinedMetricWarning: Precision is ill-defined and being set to 0.0 due to no predicted samples. Use `zero_division` parameter to control this behavior.\n",
      "  _warn_prf(average, modifier, f\"{metric.capitalize()} is\", result.shape[0])\n",
      "/usr/local/python/3.12.1/lib/python3.12/site-packages/sklearn/metrics/_classification.py:1731: UndefinedMetricWarning: Precision is ill-defined and being set to 0.0 due to no predicted samples. Use `zero_division` parameter to control this behavior.\n",
      "  _warn_prf(average, modifier, f\"{metric.capitalize()} is\", result.shape[0])\n",
      "/usr/local/python/3.12.1/lib/python3.12/site-packages/sklearn/metrics/_classification.py:1731: UndefinedMetricWarning: Precision is ill-defined and being set to 0.0 due to no predicted samples. Use `zero_division` parameter to control this behavior.\n",
      "  _warn_prf(average, modifier, f\"{metric.capitalize()} is\", result.shape[0])\n",
      "/tmp/ipykernel_66290/4098541189.py:25: UserWarning: No artists with labels found to put in legend.  Note that artists whose label start with an underscore are ignored when legend() is called with no argument.\n",
      "  plt.legend()\n"
     ]
    },
    {
     "data": {
      "text/plain": [
       "<matplotlib.legend.Legend at 0x7dc78b6bc980>"
      ]
     },
     "execution_count": 8,
     "metadata": {},
     "output_type": "execute_result"
    },
    {
     "data": {
      "image/png": "[encoded data removed]",
      "text/plain": [
       "<Figure size 640x480 with 1 Axes>"
      ]
     },
     "metadata": {},
     "output_type": "display_data"
    }
   ],
   "source": [
    "from sklearn.metrics import precision_score, recall_score, f1_score\n",
    "import matplotlib.pyplot as plt\n",
    "\n",
    "thresholds=np.linspace(0,1,num=101)\n",
    "\n",
    "'''\n",
    "model = LogisticRegression(solver='liblinear', C=1.0, max_iter=1000)\n",
    "model.fit(X_train, y_train)\n",
    "\n",
    "val_dict = df_val[cat_columns + num_columns].to_dict(orient='records')\n",
    "X_val = dv.transform(val_dict)\n",
    "\n",
    "y_pred = model.predict_proba(X_val)[:, 1]\n",
    "'''\n",
    "precisions=[]\n",
    "recalls=[]\n",
    "for t in thresholds:\n",
    "    loop_target_decision = (y_pred >= t)\n",
    "\n",
    "    precisions.append(precision_score(y_val, loop_target_decision, average='binary'))\n",
    "    recalls.append(recall_score(y_val, loop_target_decision, average='binary'))\n",
    "\n",
    "plt.plot(thresholds,precisions)\n",
    "plt.plot(thresholds, recalls)\n",
    "plt.legend()"
   ]
  },
  {
   "cell_type": "markdown",
   "id": "2969709f-56fb-4197-8cff-19be54604fe8",
   "metadata": {},
   "source": [
    "### Question 4: F1 score\n",
    "\n",
    "Precision and recall are conflicting - when one grows, the other goes down. That's why they are often combined into the F1 score - a metrics that takes into account both\n",
    "\n",
    "This is the formula for computing F1:\n",
    "\n",
    "$$F_1 = 2 \\cdot \\cfrac{P \\cdot R}{P + R}$$\n",
    "\n",
    "Where $P$ is precision and $R$ is recall.\n",
    "\n",
    "Let's compute F1 for all thresholds from 0.0 to 1.0 with increment 0.01\n",
    "\n",
    "At which threshold F1 is maximal?\n",
    "\n",
    "- 0.14\n",
    "- 0.34\n",
    "- 0.54 <--- (for now)\n",
    "- 0.74"
   ]
  },
  {
   "cell_type": "code",
   "execution_count": 9,
   "id": "6fa947aa-59d5-45b1-aafd-b12cc72d5595",
   "metadata": {},
   "outputs": [
    {
     "name": "stdout",
     "output_type": "stream",
     "text": [
      "[[0.57       0.8125    ]\n",
      " [0.55       0.81122449]\n",
      " [0.56       0.80927835]\n",
      " [0.59       0.80851064]\n",
      " [0.58       0.80839895]\n",
      " [0.54       0.80604534]\n",
      " [0.53       0.80299252]\n",
      " [0.61       0.80216802]\n",
      " [0.6        0.80213904]\n",
      " [0.62       0.79665738]\n",
      " [0.52       0.79506173]\n",
      " [0.51       0.79126214]\n",
      " [0.48       0.79047619]\n",
      " [0.5        0.78846154]\n",
      " [0.49       0.7875895 ]\n",
      " [0.63       0.78753541]\n",
      " [0.47       0.78688525]\n",
      " [0.46       0.78604651]\n",
      " [0.45       0.78240741]\n",
      " [0.44       0.7816092 ]\n",
      " [0.64       0.78134111]\n",
      " [0.43       0.77448747]\n",
      " [0.42       0.77272727]\n",
      " [0.65       0.76923077]\n",
      " [0.4        0.76510067]\n",
      " [0.41       0.76404494]\n",
      " [0.39       0.75831486]\n",
      " [0.67       0.75308642]\n",
      " [0.38       0.75164835]\n",
      " [0.66       0.75151515]\n",
      " [0.37       0.74835886]\n",
      " [0.36       0.74835886]\n",
      " [0.35       0.74509804]\n",
      " [0.34       0.74509804]\n",
      " [0.33       0.74347826]\n",
      " [0.32       0.74347826]\n",
      " [0.31       0.74186551]\n",
      " [0.29       0.74186551]\n",
      " [0.3        0.74186551]\n",
      " [0.28       0.74025974]\n",
      " [0.27       0.73866091]\n",
      " [0.15       0.73706897]\n",
      " [0.26       0.73706897]\n",
      " [0.25       0.73706897]\n",
      " [0.24       0.73706897]\n",
      " [0.23       0.73706897]\n",
      " [0.22       0.73706897]\n",
      " [0.21       0.73706897]\n",
      " [0.2        0.73706897]\n",
      " [0.19       0.73706897]\n",
      " [0.18       0.73706897]\n",
      " [0.17       0.73706897]\n",
      " [0.16       0.73706897]\n",
      " [0.07       0.73706897]\n",
      " [0.14       0.73706897]\n",
      " [0.13       0.73706897]\n",
      " [0.12       0.73706897]\n",
      " [0.11       0.73706897]\n",
      " [0.1        0.73706897]\n",
      " [0.09       0.73706897]\n",
      " [0.08       0.73706897]\n",
      " [0.03       0.73706897]\n",
      " [0.06       0.73706897]\n",
      " [0.05       0.73706897]\n",
      " [0.04       0.73706897]\n",
      " [0.01       0.73706897]\n",
      " [0.02       0.73706897]\n",
      " [0.         0.73706897]\n",
      " [0.68       0.73650794]\n",
      " [0.69       0.7184466 ]\n",
      " [0.7        0.70198675]\n",
      " [0.71       0.69798658]\n",
      " [0.72       0.67128028]\n",
      " [0.73       0.64285714]\n",
      " [0.74       0.64      ]\n",
      " [0.75       0.62730627]\n",
      " [0.76       0.61886792]\n",
      " [0.77       0.6       ]\n",
      " [0.78       0.57370518]\n",
      " [0.79       0.54918033]\n",
      " [0.8        0.53112033]\n",
      " [0.81       0.525     ]\n",
      " [0.82       0.5042735 ]\n",
      " [0.83       0.46491228]\n",
      " [0.84       0.45814978]\n",
      " [0.85       0.42009132]\n",
      " [0.86       0.38317757]\n",
      " [0.87       0.32850242]\n",
      " [0.88       0.30392157]\n",
      " [0.89       0.27135678]\n",
      " [0.9        0.24489796]\n",
      " [0.91       0.18947368]\n",
      " [0.92       0.12021858]\n",
      " [0.94       0.07865169]\n",
      " [0.93       0.07865169]\n",
      " [0.95       0.05681818]\n",
      " [0.96       0.03448276]\n",
      " [0.97       0.01162791]\n",
      " [0.98       0.        ]\n",
      " [0.99       0.        ]\n",
      " [1.         0.        ]]\n"
     ]
    },
    {
     "data": {
      "text/plain": [
       "[<matplotlib.lines.Line2D at 0x7dc78b5f5670>,\n",
       " <matplotlib.lines.Line2D at 0x7dc78b5f56a0>]"
      ]
     },
     "execution_count": 9,
     "metadata": {},
     "output_type": "execute_result"
    },
    {
     "data": {
      "image/png": "[encoded data removed]",
      "text/plain": [
       "<Figure size 640x480 with 1 Axes>"
      ]
     },
     "metadata": {},
     "output_type": "display_data"
    }
   ],
   "source": [
    "f1 = []\n",
    "for t in thresholds:\n",
    "    loop_target_decision = (y_pred >= t)\n",
    "\n",
    "    f1.append([t,f1_score(y_val, loop_target_decision, average='binary')])\n",
    "\n",
    "f1_matrix = np.array(f1)\n",
    "# Get the indices that would sort the second column (f1_score) in ascending order\n",
    "sort_indices = np.argsort(f1_matrix[:, 1])\n",
    "\n",
    "# Reverse the indices to get descending order (highest F1 score first)\n",
    "descending_sort_indices = sort_indices[::-1]\n",
    "\n",
    "# Apply the sorted indices to the whole matrix\n",
    "sorted_f1_matrix = f1_matrix[descending_sort_indices]\n",
    "print(sorted_f1_matrix)\n",
    "\n",
    "plt.plot(thresholds,f1)\n"
   ]
  },
  {
   "cell_type": "markdown",
   "id": "3a367768-9694-4aa1-a7ce-19d218377564",
   "metadata": {},
   "source": [
    "### Question 5: 5-Fold CV\n",
    "\n",
    "\n",
    "Use the `KFold` class from Scikit-Learn to evaluate our model on 5 different folds:\n",
    "\n",
    "```\n",
    "KFold(n_splits=5, shuffle=True, random_state=1)\n",
    "```\n",
    "\n",
    "* Iterate over different folds of `df_full_train` ✔️\n",
    "* Split the data into train and validation ✔️\n",
    "* Train the model on train with these parameters: `LogisticRegression(solver='liblinear', C=1.0, max_iter=1000)` ✔️\n",
    "* Use AUC to evaluate the model on validation\n",
    "\n",
    "How large is standard deviation of the scores across different folds?\n",
    "\n",
    "- 0.0001\n",
    "- 0.006\n",
    "- 0.06 <--- (for now)\n",
    "- 0.36"
   ]
  },
  {
   "cell_type": "code",
   "execution_count": 59,
   "id": "55dee252-8e19-48ab-822c-645abae0f36e",
   "metadata": {},
   "outputs": [
    {
     "name": "stdout",
     "output_type": "stream",
     "text": [
      "0.822108915 +- 0.035807119\n"
     ]
    }
   ],
   "source": [
    "kfold = KFold(n_splits=5, shuffle=True, random_state=1)\n",
    "scores=[]\n",
    "for train_idx, val_idx in kfold.split(df_full_train):\n",
    "    df_train = df_full_train.iloc[train_idx]\n",
    "    df_val = df_full_train.iloc[val_idx]\n",
    "\n",
    "    y_train = df_train.converted.values\n",
    "    y_val = df_val.converted.values\n",
    "\n",
    "    dv, model = train(df_train, y_train, C=1)\n",
    "    y_pred = predict(df_val, dv, model)\n",
    "\n",
    "    auc = roc_auc_score(y_val, y_pred)\n",
    "    scores.append(auc)\n",
    "\n",
    "print('%.9f +- %.9f' % (np.mean(scores), np.std(scores)))"
   ]
  },
  {
   "cell_type": "code",
   "execution_count": 57,
   "id": "899ca967-2e9d-45c3-aca6-876362531cc4",
   "metadata": {},
   "outputs": [],
   "source": [
    "from tqdm.auto import tqdm\n",
    "from sklearn.model_selection import KFold\n",
    "\n",
    "def train(df_train, y_train, C=1.0):\n",
    "    dicts = df_train[cat_columns + num_columns].to_dict(orient='records')\n",
    "\n",
    "    dv = DictVectorizer(sparse=False)\n",
    "    X_train = dv.fit_transform(dicts)\n",
    "\n",
    "    model = LogisticRegression(solver='liblinear', C=C, max_iter=1000)\n",
    "    model.fit(X_train, y_train)\n",
    "    \n",
    "    return dv, model\n",
    "\n",
    "def predict(df, dv, model):\n",
    "    dicts = df[cat_columns + num_columns].to_dict(orient='records')\n",
    "\n",
    "    X = dv.transform(dicts)\n",
    "    y_pred = model.predict_proba(X)[:, 1]\n",
    "\n",
    "    return y_pred"
   ]
  },
  {
   "cell_type": "markdown",
   "id": "5eb7b51f-7e54-4af3-9fa7-93350ab8d41b",
   "metadata": {},
   "source": [
    "### Question 6: Hyperparameter Tuning\n",
    "\n",
    "Now let's use 5-Fold cross-validation to find the best parameter `C`\n",
    "\n",
    "* Iterate over the following `C` values: `[0.000001, 0.001, 1]` ✔️\n",
    "* Initialize `KFold` with the same parameters as previously ✔️\n",
    "* Use these parameters for the model: `LogisticRegression(solver='liblinear', C=C, max_iter=1000)` ✔️\n",
    "* Compute the mean score as well as the std (round the mean and std to 3 decimal digits) ✔️\n",
    "\n",
    "Which `C` leads to the best mean score?\n",
    "\n",
    "- 0.000001\n",
    "- 0.001 <---\n",
    "- 1\n",
    "\n",
    "If you have ties, select the score with the lowest std. If you still have ties, select the smallest `C`."
   ]
  },
  {
   "cell_type": "code",
   "execution_count": 61,
   "id": "fd785db4-f151-4a7c-8ce7-d4d3daf22586",
   "metadata": {},
   "outputs": [
    {
     "data": {
      "application/vnd.jupyter.widget-view+json": {
       "model_id": "234b701de1604263aa2044ee668fdd05",
       "version_major": 2,
       "version_minor": 0
      },
      "text/plain": [
       "  0%|          | 0/3 [00:00<?, ?it/s]"
      ]
     },
     "metadata": {},
     "output_type": "display_data"
    },
    {
     "name": "stdout",
     "output_type": "stream",
     "text": [
      "C=1e-06 0.560 +- 0.024\n",
      "C=0.001 0.867 +- 0.029\n",
      "C=1 0.822 +- 0.036\n"
     ]
    }
   ],
   "source": [
    "for C in tqdm([0.000001, 0.001, 1]):\n",
    "    scores = []\n",
    "\n",
    "    for train_idx, val_idx in kfold.split(df_full_train):\n",
    "        df_train = df_full_train.iloc[train_idx]\n",
    "        df_val = df_full_train.iloc[val_idx]\n",
    "\n",
    "        y_train = df_train.converted.values\n",
    "        y_val = df_val.converted.values\n",
    "\n",
    "        dv, model = train(df_train, y_train, C=C)\n",
    "        y_pred = predict(df_val, dv, model)\n",
    "\n",
    "        auc = roc_auc_score(y_val, y_pred)\n",
    "        scores.append(auc)\n",
    "\n",
    "    print('C=%s %.3f +- %.3f' % (C, np.mean(scores), np.std(scores)))"
   ]
  },
  {
   "cell_type": "code",
   "execution_count": null,
   "id": "67e82a40-b72d-4846-87a9-35733bcbaf1c",
   "metadata": {},
   "outputs": [],
   "source": []
  }
 ],
 "metadata": {
  "kernelspec": {
   "display_name": "Python 3 (ipykernel)",
   "language": "python",
   "name": "python3"
  },
  "language_info": {
   "codemirror_mode": {
    "name": "ipython",
    "version": 3
   },
   "file_extension": ".py",
   "mimetype": "text/x-python",
   "name": "python",
   "nbconvert_exporter": "python",
   "pygments_lexer": "ipython3",
   "version": "3.12.1"
  }
 },
 "nbformat": 4,
 "nbformat_minor": 5
}
