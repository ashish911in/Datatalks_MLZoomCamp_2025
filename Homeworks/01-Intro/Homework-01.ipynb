{
 "cells": [
  {
   "cell_type": "code",
   "execution_count": 5,
   "id": "fdb07dcd-9879-4388-87af-3ecc9d6ae685",
   "metadata": {},
   "outputs": [
    {
     "name": "stdout",
     "output_type": "stream",
     "text": [
      "Python 3.12.1\n"
     ]
    }
   ],
   "source": [
    "!python --version"
   ]
  },
  {
   "cell_type": "markdown",
   "id": "254be402-51a0-4f08-bc85-ec57358a50d1",
   "metadata": {},
   "source": [
    "### Q1. Pandas version\n",
    "\n",
    "What's the version of Pandas that you installed?\n",
    "\n",
    "You can get the version information using the `__version__` field:\n",
    "\n",
    "```python\n",
    "pd.__version__\n",
    "```"
   ]
  },
  {
   "cell_type": "code",
   "execution_count": 1,
   "id": "c3a5648c-841b-4d4f-8447-dbfd0e2d6d1d",
   "metadata": {},
   "outputs": [],
   "source": [
    "import pandas as pd"
   ]
  },
  {
   "cell_type": "code",
   "execution_count": 2,
   "id": "ac25b8e5-018f-4b89-933a-4c643ed572bb",
   "metadata": {},
   "outputs": [
    {
     "data": {
      "text/plain": [
       "'2.3.2'"
      ]
     },
     "execution_count": 2,
     "metadata": {},
     "output_type": "execute_result"
    }
   ],
   "source": [
    "pd.__version__"
   ]
  },
  {
   "cell_type": "markdown",
   "id": "b3d5a5a7-90bf-48b4-b018-6087b3810b78",
   "metadata": {},
   "source": [
    "### Getting the data \n",
    "\n",
    "For this homework, we'll use the Car Fuel Efficiency dataset. Download it from <a href='https://raw.githubusercontent.com/alexeygrigorev/datasets/master/car_fuel_efficiency.csv'>here</a>.\n",
    "\n",
    "You can do it with wget:\n",
    "```bash\n",
    "wget https://raw.githubusercontent.com/alexeygrigorev/datasets/master/car_fuel_efficiency.csv\n",
    "```\n",
    "\n",
    "Or just open it with your browser and click \"Save as...\".\n",
    "\n",
    "Now read it with Pandas.\n",
    "\n",
    "### Q2. Records count\n",
    "\n",
    "How many records are in the dataset?\n",
    "\n",
    "- 4704\n",
    "- 8704\n",
    "- 9704 <---\n",
    "- 17704"
   ]
  },
  {
   "cell_type": "code",
   "execution_count": 8,
   "id": "61d254bd-397d-4997-b179-ec200c581e19",
   "metadata": {},
   "outputs": [
    {
     "name": "stdout",
     "output_type": "stream",
     "text": [
      "--2025-09-28 20:23:15--  https://raw.githubusercontent.com/alexeygrigorev/datasets/master/car_fuel_efficiency.csv\n",
      "Resolving raw.githubusercontent.com (raw.githubusercontent.com)... 185.199.109.133, 185.199.110.133, 185.199.111.133, ...\n",
      "Connecting to raw.githubusercontent.com (raw.githubusercontent.com)|185.199.109.133|:443... connected.\n",
      "HTTP request sent, awaiting response... 200 OK\n",
      "Length: 874188 (854K) [text/plain]\n",
      "Saving to: ‘car_fuel_efficiency.csv’\n",
      "\n",
      "car_fuel_efficiency 100%[===================>] 853.70K  --.-KB/s    in 0.007s  \n",
      "\n",
      "2025-09-28 20:23:15 (120 MB/s) - ‘car_fuel_efficiency.csv’ saved [874188/874188]\n",
      "\n"
     ]
    }
   ],
   "source": [
    "!wget https://raw.githubusercontent.com/alexeygrigorev/datasets/master/car_fuel_efficiency.csv"
   ]
  },
  {
   "cell_type": "code",
   "execution_count": 9,
   "id": "4fca5306-3871-425d-87b2-e2fd9928cdf1",
   "metadata": {},
   "outputs": [
    {
     "name": "stdout",
     "output_type": "stream",
     "text": [
      "Homework-01.ipynb  car_fuel_efficiency.csv  homework_qns.md\n"
     ]
    }
   ],
   "source": [
    "!ls"
   ]
  },
  {
   "cell_type": "code",
   "execution_count": 214,
   "id": "8e626d8a-8f37-4ff2-ac46-f531895adcbb",
   "metadata": {},
   "outputs": [
    {
     "data": {
      "text/plain": [
       "(9704, 9704, 9704)"
      ]
     },
     "execution_count": 214,
     "metadata": {},
     "output_type": "execute_result"
    }
   ],
   "source": [
    "df = pd.read_csv('car_fuel_efficiency.csv')\n",
    "row_count1 = len(df)\n",
    "row_count2 = df.shape[0]\n",
    "row_count3 = len(df.index)\n",
    "\n",
    "(row_count1, row_count2, row_count3)"
   ]
  },
  {
   "cell_type": "markdown",
   "id": "dfdf6613-bc90-49d0-add5-6f0c13d18851",
   "metadata": {},
   "source": [
    "### Q3. Fuel types\n",
    "\n",
    "How many fuel types are presented in the dataset?\n",
    "\n",
    "- 1\n",
    "- 2 <---\n",
    "- 3\n",
    "- 4"
   ]
  },
  {
   "cell_type": "code",
   "execution_count": 28,
   "id": "b3bcd1fe-795a-4768-b6c8-04e01398342c",
   "metadata": {},
   "outputs": [
    {
     "data": {
      "text/plain": [
       "(array(['Gasoline', 'Diesel'], dtype=object), 2)"
      ]
     },
     "execution_count": 28,
     "metadata": {},
     "output_type": "execute_result"
    }
   ],
   "source": [
    "unique_fuel_types = df['fuel_type'].unique()\n",
    "no_unique_fuel_types = len(unique_fuel_types)\n",
    "(unique_fuel_types, no_unique_fuel_types)"
   ]
  },
  {
   "cell_type": "markdown",
   "id": "2355cfd7-625a-424e-b269-cbcd6bd15711",
   "metadata": {},
   "source": [
    "### Q4. Missing values\n",
    "\n",
    "How many columns in the dataset have missing values?\n",
    "\n",
    "- 0\n",
    "- 1\n",
    "- 2\n",
    "- 3\n",
    "- 4 <---"
   ]
  },
  {
   "cell_type": "code",
   "execution_count": 52,
   "id": "3c833062-64a9-4f7b-8472-5505a78ded5a",
   "metadata": {},
   "outputs": [
    {
     "data": {
      "text/plain": [
       "engine_displacement      0\n",
       "num_cylinders          482\n",
       "horsepower             708\n",
       "vehicle_weight           0\n",
       "acceleration           930\n",
       "model_year               0\n",
       "origin                   0\n",
       "fuel_type                0\n",
       "drivetrain               0\n",
       "num_doors              502\n",
       "fuel_efficiency_mpg      0\n",
       "dtype: int64"
      ]
     },
     "execution_count": 52,
     "metadata": {},
     "output_type": "execute_result"
    }
   ],
   "source": [
    "missing_values_per_column = df.isnull().sum()\n",
    "missing_values_per_column"
   ]
  },
  {
   "cell_type": "code",
   "execution_count": 57,
   "id": "5c15fd28-0c08-42c5-b301-5907b72ade4f",
   "metadata": {},
   "outputs": [
    {
     "data": {
      "text/plain": [
       "np.int64(4)"
      ]
     },
     "execution_count": 57,
     "metadata": {},
     "output_type": "execute_result"
    }
   ],
   "source": [
    "num_columns_with_missing_values = missing_values_per_column > 0\n",
    "num_columns_with_missing_values.sum()"
   ]
  },
  {
   "cell_type": "markdown",
   "id": "dab77b55-8b42-41be-8645-a2b6f0e2fb76",
   "metadata": {},
   "source": [
    "### Q5. Max fuel efficiency\n",
    "\n",
    "What's the maximum fuel efficiency of cars from Asia?\n",
    "\n",
    "- 13.75\n",
    "- 23.75 <---\n",
    "- 33.75\n",
    "- 43.75"
   ]
  },
  {
   "cell_type": "code",
   "execution_count": 41,
   "id": "5bb0ca42-9669-42bf-b219-3dfa98fe5b88",
   "metadata": {},
   "outputs": [
    {
     "data": {
      "text/plain": [
       "np.float64(23.759122836520497)"
      ]
     },
     "execution_count": 41,
     "metadata": {},
     "output_type": "execute_result"
    }
   ],
   "source": [
    "df[df['origin'] == 'Asia'].fuel_efficiency_mpg.max() # max        23.759123"
   ]
  },
  {
   "cell_type": "markdown",
   "id": "bc44e9f6-c78c-469f-aaee-9ae4dd619939",
   "metadata": {},
   "source": [
    "### Q6. Median value of horsepower\n",
    "\n",
    "\n",
    "\n",
    "1. Find the median value of `horsepower` column in the dataset.\n",
    "2. Next, calculate the most frequent value of the same `horsepower` column.\n",
    "3. Use `fillna` method to fill the missing values in `horsepower` column with the most frequent value from the previous step.\n",
    "4. Now, calculate the median value of `horsepower` once again.\n",
    "\n",
    "Has it changed?\n",
    "\n",
    "\n",
    "- Yes, it increased <---\n",
    "- Yes, it decreased\n",
    "- No"
   ]
  },
  {
   "cell_type": "code",
   "execution_count": 215,
   "id": "df7c058d-9d3f-4842-933c-573a0005172e",
   "metadata": {},
   "outputs": [
    {
     "data": {
      "text/plain": [
       "np.float64(149.0)"
      ]
     },
     "execution_count": 215,
     "metadata": {},
     "output_type": "execute_result"
    }
   ],
   "source": [
    "df.horsepower.median() # 149"
   ]
  },
  {
   "cell_type": "code",
   "execution_count": 216,
   "id": "6d01fc04-d481-4692-9109-1ecb771d7a34",
   "metadata": {},
   "outputs": [
    {
     "data": {
      "text/plain": [
       "np.float64(152.0)"
      ]
     },
     "execution_count": 216,
     "metadata": {},
     "output_type": "execute_result"
    }
   ],
   "source": [
    "df.horsepower.mode()[0] # 152"
   ]
  },
  {
   "cell_type": "code",
   "execution_count": 217,
   "id": "a0b0c908-ce49-4619-a1d9-22669f5b5114",
   "metadata": {},
   "outputs": [
    {
     "data": {
      "text/plain": [
       "np.float64(152.0)"
      ]
     },
     "execution_count": 217,
     "metadata": {},
     "output_type": "execute_result"
    }
   ],
   "source": [
    "most_frequent_value_counts = df['horsepower'].value_counts().idxmax()\n",
    "most_frequent_value_counts"
   ]
  },
  {
   "cell_type": "code",
   "execution_count": 218,
   "id": "49b71859-5ac4-4cd2-a526-81e424da239e",
   "metadata": {},
   "outputs": [
    {
     "data": {
      "text/plain": [
       "0       159.0\n",
       "1        97.0\n",
       "2        78.0\n",
       "3         NaN\n",
       "4       140.0\n",
       "        ...  \n",
       "9699    164.0\n",
       "9700    154.0\n",
       "9701    138.0\n",
       "9702    177.0\n",
       "9703    140.0\n",
       "Name: horsepower, Length: 9704, dtype: float64"
      ]
     },
     "execution_count": 218,
     "metadata": {},
     "output_type": "execute_result"
    }
   ],
   "source": [
    "df_original = df.copy()\n",
    "df.horsepower"
   ]
  },
  {
   "cell_type": "code",
   "execution_count": 219,
   "id": "aeccf1c8-e509-4357-b1b5-141352b102ce",
   "metadata": {},
   "outputs": [
    {
     "data": {
      "text/plain": [
       "0       159.0\n",
       "1        97.0\n",
       "2        78.0\n",
       "3       152.0\n",
       "4       140.0\n",
       "        ...  \n",
       "9699    164.0\n",
       "9700    154.0\n",
       "9701    138.0\n",
       "9702    177.0\n",
       "9703    140.0\n",
       "Name: horsepower, Length: 9704, dtype: float64"
      ]
     },
     "execution_count": 219,
     "metadata": {},
     "output_type": "execute_result"
    }
   ],
   "source": [
    "df.horsepower = df['horsepower'].fillna(df.horsepower.mode()[0])\n",
    "df.horsepower"
   ]
  },
  {
   "cell_type": "code",
   "execution_count": 220,
   "id": "2e3dfe77-c1c6-4391-8e4d-e9156d5d5932",
   "metadata": {},
   "outputs": [
    {
     "data": {
      "text/plain": [
       "np.float64(149.0)"
      ]
     },
     "execution_count": 220,
     "metadata": {},
     "output_type": "execute_result"
    }
   ],
   "source": [
    "df_original.horsepower.median() # 149"
   ]
  },
  {
   "cell_type": "code",
   "execution_count": 221,
   "id": "f8b8996e-4feb-4750-826b-f175f173e497",
   "metadata": {},
   "outputs": [
    {
     "data": {
      "text/plain": [
       "np.float64(152.0)"
      ]
     },
     "execution_count": 221,
     "metadata": {},
     "output_type": "execute_result"
    }
   ],
   "source": [
    "df.horsepower.median()"
   ]
  },
  {
   "cell_type": "markdown",
   "id": "9e11079a-ad3d-4808-9deb-3cc0f432b059",
   "metadata": {},
   "source": [
    "### Q7. Sum of weights\n",
    "\n",
    "1. Select all the cars from Asia\n",
    "2. Select only columns `vehicle_weight` and `model_year`\n",
    "3. Select the first 7 values\n",
    "4. Get the underlying NumPy array. Let's call it `X`.\n",
    "5. Compute matrix-matrix multiplication between the transpose of `X` and `X`. To get the transpose, use `X.T`. Let's call the result `XTX`.\n",
    "6. Invert `XTX`.\n",
    "7. Create an array `y` with values `[1100, 1300, 800, 900, 1000, 1100, 1200]`.\n",
    "8. Multiply the inverse of `XTX` with the transpose of `X`, and then multiply the result by `y`. Call the result `w`.\n",
    "9. What's the sum of all the elements of the result?\n",
    "\n",
    "> **Note**: You just implemented linear regression. We'll talk about it in the next lesson.\n",
    "\n",
    "- 0.051\n",
    "- 0.51 <---\n",
    "- 5.1\n",
    "- 51"
   ]
  },
  {
   "cell_type": "code",
   "execution_count": 181,
   "id": "19d7e22d-a0ed-4505-b19f-bfc07382ff38",
   "metadata": {},
   "outputs": [
    {
     "name": "stdout",
     "output_type": "stream",
     "text": [
      "[[ 1  3  5  7  9 11 13]\n",
      " [ 2  4  6  8 10 12 14]]\n",
      "1.7857142857144481\n"
     ]
    }
   ],
   "source": [
    "def complex_operation(matrix):\n",
    "    print(matrix.T)\n",
    "    matmul1 = np.matmul(matrix.T, matrix)\n",
    "    matmul2 = matrix.T.dot(matrix)\n",
    "    matmul3 = np.dot(matrix.T, matrix)\n",
    "    matmul4 = matrix.T @ matrix\n",
    "    inv_mat = np.linalg.inv(matmul1)\n",
    "    y = np.array([1100, 1300, 800, 900, 1000, 1100, 1200])\n",
    "    \n",
    "    next_step1 = np.matmul(inv_mat, matrix.T)\n",
    "    w = next_step1 @ y\n",
    "    #w = inv_mat @ matrix.T @ y\n",
    "\n",
    "    result = w\n",
    "    print(w.sum())\n",
    "\n",
    "test_matrix = np.array([[1, 2],\n",
    "                        [3, 4],\n",
    "                        [5, 6],\n",
    "                        [7, 8],\n",
    "                        [9, 10],\n",
    "                        [11, 12],\n",
    "                        [13, 14]\n",
    "                       ])\n",
    "complex_operation(test_matrix)"
   ]
  },
  {
   "cell_type": "code",
   "execution_count": 182,
   "id": "269b5e05-623e-4a1f-ad49-11ca4cb28d89",
   "metadata": {},
   "outputs": [],
   "source": [
    "df=df_original\n",
    "df_to_matrix = df[df.origin == 'Asia'][['vehicle_weight','model_year']].head(7)\n",
    "df_matrix = df_to_matrix.values"
   ]
  },
  {
   "cell_type": "code",
   "execution_count": 183,
   "id": "b2afbd78-8e0c-48da-80d8-3a2992fccc44",
   "metadata": {},
   "outputs": [
    {
     "data": {
      "text/plain": [
       "array([[2714.21930965, 2016.        ],\n",
       "       [2783.86897424, 2010.        ],\n",
       "       [3582.68736772, 2007.        ],\n",
       "       [2231.8081416 , 2011.        ],\n",
       "       [2659.43145076, 2016.        ],\n",
       "       [2844.22753389, 2014.        ],\n",
       "       [3761.99403819, 2019.        ]])"
      ]
     },
     "execution_count": 183,
     "metadata": {},
     "output_type": "execute_result"
    }
   ],
   "source": [
    "df_matrix"
   ]
  },
  {
   "cell_type": "code",
   "execution_count": 184,
   "id": "23a3570d-dd3e-41dd-9133-ba9f9c59d0d2",
   "metadata": {},
   "outputs": [
    {
     "name": "stdout",
     "output_type": "stream",
     "text": [
      "[[2714.21930965 2783.86897424 3582.68736772 2231.8081416  2659.43145076\n",
      "  2844.22753389 3761.99403819]\n",
      " [2016.         2010.         2007.         2011.         2016.\n",
      "  2014.         2019.        ]]\n",
      "0.5187709081074016\n"
     ]
    }
   ],
   "source": [
    "complex_operation(df_matrix)"
   ]
  }
 ],
 "metadata": {
  "kernelspec": {
   "display_name": "Python 3 (ipykernel)",
   "language": "python",
   "name": "python3"
  },
  "language_info": {
   "codemirror_mode": {
    "name": "ipython",
    "version": 3
   },
   "file_extension": ".py",
   "mimetype": "text/x-python",
   "name": "python",
   "nbconvert_exporter": "python",
   "pygments_lexer": "ipython3",
   "version": "3.12.1"
  }
 },
 "nbformat": 4,
 "nbformat_minor": 5
}
