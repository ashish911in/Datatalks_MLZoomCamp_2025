{
 "cells": [
  {
   "cell_type": "code",
   "execution_count": 1,
   "id": "ddc2e3e4-3570-4f10-babb-6fa47b4b6e72",
   "metadata": {},
   "outputs": [
    {
     "name": "stdout",
     "output_type": "stream",
     "text": [
      "--2025-10-20 08:37:22--  https://raw.githubusercontent.com/DataTalksClub/machine-learning-zoomcamp/refs/heads/master/cohorts/2025/04-evaluation/homework.md\n",
      "Resolving raw.githubusercontent.com (raw.githubusercontent.com)... 185.199.109.133, 185.199.110.133, 185.199.111.133, ...\n",
      "Connecting to raw.githubusercontent.com (raw.githubusercontent.com)|185.199.109.133|:443... connected.\n",
      "HTTP request sent, awaiting response... 200 OK\n",
      "Length: 4041 (3.9K) [text/plain]\n",
      "Saving to: ‘homework.md’\n",
      "\n",
      "homework.md         100%[===================>]   3.95K  --.-KB/s    in 0s      \n",
      "\n",
      "2025-10-20 08:37:23 (46.1 MB/s) - ‘homework.md’ saved [4041/4041]\n",
      "\n"
     ]
    }
   ],
   "source": [
    "!wget https://raw.githubusercontent.com/DataTalksClub/machine-learning-zoomcamp/refs/heads/master/cohorts/2025/04-evaluation/homework.md"
   ]
  },
  {
   "cell_type": "code",
   "execution_count": null,
   "id": "7ac7a3ff-b4e2-4021-a44e-19ab8c89c361",
   "metadata": {},
   "outputs": [],
   "source": []
  }
 ],
 "metadata": {
  "kernelspec": {
   "display_name": "Python 3 (ipykernel)",
   "language": "python",
   "name": "python3"
  },
  "language_info": {
   "codemirror_mode": {
    "name": "ipython",
    "version": 3
   },
   "file_extension": ".py",
   "mimetype": "text/x-python",
   "name": "python",
   "nbconvert_exporter": "python",
   "pygments_lexer": "ipython3",
   "version": "3.12.1"
  }
 },
 "nbformat": 4,
 "nbformat_minor": 5
}
